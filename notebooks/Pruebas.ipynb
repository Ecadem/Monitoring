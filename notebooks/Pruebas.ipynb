{
 "cells": [
  {
   "attachments": {},
   "cell_type": "markdown",
   "id": "6ee8648d",
   "metadata": {},
   "source": [
    "# Monitoring App"
   ]
  },
  {
   "attachments": {},
   "cell_type": "markdown",
   "id": "b83e107a",
   "metadata": {},
   "source": [
    "#### Este notebook será usado para las pruebas del proyecto Monitoring App Ecadem"
   ]
  },
  {
   "cell_type": "code",
   "execution_count": 1,
   "id": "7b7f07e3",
   "metadata": {},
   "outputs": [],
   "source": [
    "from apscheduler.schedulers.background import BackgroundScheduler\n",
    "from datetime import datetime\n",
    "import time\n",
    "import requests as req\n",
    "import pandas as pd\n",
    "import json"
   ]
  },
  {
   "cell_type": "code",
   "execution_count": 2,
   "id": "bbb7334e",
   "metadata": {},
   "outputs": [],
   "source": [
    "import MySQLdb\n",
    "\n",
    "HOST='us-east.connect.psdb.cloud'\n",
    "USERNAME='g16cfqqc7npgp4c16oui'\n",
    "PASSWORD='pscale_pw_QmEuVrfeZWv4AXnOeepFTiSUHdpHh5NZxGLHgDSKcqe'\n",
    "DATABASE='ecademprod'\n",
    "SSL_CERT='/etc/ssl/certs/ca-certificates.crt'\n",
    "\n",
    "connection = MySQLdb.connect(\n",
    "  host= HOST,\n",
    "  user= USERNAME,\n",
    "  passwd= PASSWORD,\n",
    "  db= DATABASE,\n",
    "  ssl      = {\n",
    "    \"ca\": SSL_CERT\n",
    "  }\n",
    ")\n",
    "\n",
    "\n",
    "cursor = connection.cursor()"
   ]
  },
  {
   "cell_type": "code",
   "execution_count": 3,
   "id": "e6671018",
   "metadata": {},
   "outputs": [],
   "source": [
    "CREATION_QUERY = \"\"\"INSERT INTO ecademprod.Proj_Monitoring_Hist\n",
    "    (\n",
    "        idMonitoring,\n",
    "        lastUpdate,\n",
    "        time,\n",
    "        statusCode\n",
    "    )\n",
    "    VALUES\n",
    "    (\n",
    "        '{}',\n",
    "        '{}',\n",
    "        '{}',\n",
    "        '{}'\n",
    "    );\"\"\""
   ]
  },
  {
   "cell_type": "code",
   "execution_count": 4,
   "id": "ff3f7814",
   "metadata": {},
   "outputs": [],
   "source": [
    "SELECT_QUERY = \"\"\"\n",
    "SELECT \n",
    "    id, \n",
    "    url, \n",
    "    intervalo \n",
    "FROM ecademprod.Proj_Monitoring WHERE isActive = 1;\"\"\"\n",
    "\n",
    "df = pd.read_sql(SELECT_QUERY, connection)\n",
    "\n"
   ]
  },
  {
   "cell_type": "code",
   "execution_count": 5,
   "id": "dd65f0bf",
   "metadata": {},
   "outputs": [],
   "source": [
    "def ping_info(id_, url, CREATION_QUERY):\n",
    "\n",
    "    HOST='us-east.connect.psdb.cloud'\n",
    "    USERNAME='g16cfqqc7npgp4c16oui'\n",
    "    PASSWORD='pscale_pw_QmEuVrfeZWv4AXnOeepFTiSUHdpHh5NZxGLHgDSKcqe'\n",
    "    DATABASE='ecademprod'\n",
    "    SSL_CERT='/etc/ssl/certs/ca-certificates.crt'\n",
    "\n",
    "    connection = MySQLdb.connect(\n",
    "    host= HOST,\n",
    "    user= USERNAME,\n",
    "    passwd= PASSWORD,\n",
    "    db= DATABASE,\n",
    "    ssl      = {\n",
    "        \"ca\": SSL_CERT\n",
    "    }\n",
    "    )\n",
    "\n",
    "\n",
    "    cursor = connection.cursor()\n",
    "\n",
    "    start = time.time()\n",
    "    r = req.get(url)\n",
    "    end = time.time() - start\n",
    "\n",
    "    results = {\n",
    "        'id': id_, \n",
    "        'last_update': datetime.now(),\n",
    "        'time': round(end, 2), #round to 2 decimals\n",
    "        'status': r.status_code \n",
    "        \n",
    "    }\n",
    "\n",
    "    query = CREATION_QUERY.format(\n",
    "        results['id'],\n",
    "        results['last_update'],\n",
    "        results['time'],\n",
    "        results['status']\n",
    "    )\n",
    "\n",
    "    cursor.execute(query)\n",
    "    connection.commit()\n",
    "    connection.close()"
   ]
  },
  {
   "cell_type": "code",
   "execution_count": 6,
   "id": "b20a4109",
   "metadata": {},
   "outputs": [],
   "source": [
    "to_monitoring = json.loads(df.to_json(orient='records'))"
   ]
  },
  {
   "cell_type": "code",
   "execution_count": 9,
   "id": "942a8564",
   "metadata": {},
   "outputs": [
    {
     "data": {
      "text/plain": [
       "[{'args': [1,\n",
       "   'https://ecademcontent.ecademservices.com/',\n",
       "   \"INSERT INTO ecademprod.Proj_Monitoring_Hist\\n    (\\n        idMonitoring,\\n        lastUpdate,\\n        time,\\n        statusCode\\n    )\\n    VALUES\\n    (\\n        '{}',\\n        '{}',\\n        '{}',\\n        '{}'\\n    );\"],\n",
       "  'interval': 1},\n",
       " {'args': [2,\n",
       "   'https://genpass.ecademservices.com/',\n",
       "   \"INSERT INTO ecademprod.Proj_Monitoring_Hist\\n    (\\n        idMonitoring,\\n        lastUpdate,\\n        time,\\n        statusCode\\n    )\\n    VALUES\\n    (\\n        '{}',\\n        '{}',\\n        '{}',\\n        '{}'\\n    );\"],\n",
       "  'interval': 1},\n",
       " {'args': [3,\n",
       "   'https://ecadem.co/',\n",
       "   \"INSERT INTO ecademprod.Proj_Monitoring_Hist\\n    (\\n        idMonitoring,\\n        lastUpdate,\\n        time,\\n        statusCode\\n    )\\n    VALUES\\n    (\\n        '{}',\\n        '{}',\\n        '{}',\\n        '{}'\\n    );\"],\n",
       "  'interval': 1},\n",
       " {'args': [4,\n",
       "   'https://genpass.ecadem.co/',\n",
       "   \"INSERT INTO ecademprod.Proj_Monitoring_Hist\\n    (\\n        idMonitoring,\\n        lastUpdate,\\n        time,\\n        statusCode\\n    )\\n    VALUES\\n    (\\n        '{}',\\n        '{}',\\n        '{}',\\n        '{}'\\n    );\"],\n",
       "  'interval': 1}]"
      ]
     },
     "execution_count": 9,
     "metadata": {},
     "output_type": "execute_result"
    }
   ],
   "source": []
  },
  {
   "cell_type": "code",
   "execution_count": 16,
   "id": "de243c9e",
   "metadata": {},
   "outputs": [],
   "source": [
    "ping_info(\n",
    "    to_monitoring[0]['id'],\n",
    "    to_monitoring[0]['url'],\n",
    "    CREATION_QUERY\n",
    ")\n"
   ]
  },
  {
   "cell_type": "code",
   "execution_count": null,
   "id": "c7a9d0b5",
   "metadata": {},
   "outputs": [],
   "source": [
    "to_monitoring[1]['']"
   ]
  },
  {
   "cell_type": "code",
   "execution_count": 17,
   "id": "d3f9cfd0",
   "metadata": {},
   "outputs": [],
   "source": [
    "\n",
    "\n",
    "\n",
    "scheduler = BackgroundScheduler()\n",
    "for site in to_monitoring:\n",
    "    scheduler.add_job(\n",
    "        ping_info,\n",
    "        'interval',\n",
    "        args=[\n",
    "            site['id'],\n",
    "            site['url'],\n",
    "            CREATION_QUERY\n",
    "        ],\n",
    "        seconds=15 #site['intervalo']\n",
    "    )\n",
    "scheduler.start()"
   ]
  },
  {
   "cell_type": "code",
   "execution_count": 18,
   "id": "43aec53f",
   "metadata": {},
   "outputs": [],
   "source": [
    "\n",
    "scheduler.shutdown()\n",
    "\n",
    "\n",
    "    \n",
    "    "
   ]
  },
  {
   "cell_type": "code",
   "execution_count": null,
   "id": "8ba3971c",
   "metadata": {},
   "outputs": [],
   "source": []
  },
  {
   "attachments": {},
   "cell_type": "markdown",
   "id": "efe8b9f9",
   "metadata": {},
   "source": [
    "## job get data"
   ]
  },
  {
   "cell_type": "code",
   "execution_count": 11,
   "id": "44abcd09",
   "metadata": {},
   "outputs": [],
   "source": [
    "MIN_INTERVAL_QUERY = \"\"\"SELECT\n",
    "\tMIN(intervalo) AS minInterval\n",
    "FROM\n",
    "\tecademprod.Proj_Monitoring\"\"\"\n",
    "\n",
    "\n",
    "GET_DATA_QUERY = \"\"\"SELECT \n",
    "\tLAST_REC.idMonitoring,\n",
    "\tINFO.url,\n",
    "\tINFO.photoUrl,\n",
    "\tLAST_REC.Recent,\n",
    "\tHIST.`time`,\n",
    "\tHIST.statusCode\n",
    "FROM\n",
    "\t(\n",
    "\tSELECT\n",
    "\t\t\tidMonitoring,\n",
    "\t\t\tMAX(lastUpdate) AS Recent\n",
    "\tFROM\n",
    "\t\t\tecademprod.Proj_Monitoring_Hist\n",
    "\tGROUP BY\n",
    "\t\tidMonitoring\n",
    ") AS LAST_REC\n",
    "JOIN ecademprod.Proj_Monitoring_Hist AS HIST\n",
    "ON\n",
    "\tLAST_REC.idMonitoring = HIST.idMonitoring\n",
    "\tAND LAST_REC.Recent = HIST.lastUpdate \n",
    "JOIN ecademprod.Proj_Monitoring AS INFO\n",
    "ON INFO.id = LAST_REC.idMonitoring\"\"\""
   ]
  },
  {
   "cell_type": "code",
   "execution_count": 12,
   "id": "509aaa8d",
   "metadata": {},
   "outputs": [
    {
     "data": {
      "text/plain": [
       "1"
      ]
     },
     "execution_count": 12,
     "metadata": {},
     "output_type": "execute_result"
    }
   ],
   "source": [
    "interval = pd.read_sql(MIN_INTERVAL_QUERY, connection).values[0][0]\n",
    "interval"
   ]
  },
  {
   "cell_type": "code",
   "execution_count": 42,
   "id": "bb9b2edf",
   "metadata": {},
   "outputs": [],
   "source": [
    "data = pd.read_sql(GET_DATA_QUERY, connection) \n",
    "resp = json.loads( \n",
    "    data.to_json(orient='records', date_format='iso')\n",
    "    )"
   ]
  },
  {
   "cell_type": "code",
   "execution_count": 19,
   "id": "318e4396",
   "metadata": {},
   "outputs": [],
   "source": [
    "with open('./data.json', 'w') as outfile:\n",
    "    json.dump(resp, outfile)"
   ]
  },
  {
   "cell_type": "code",
   "execution_count": 17,
   "id": "a34f5449",
   "metadata": {},
   "outputs": [
    {
     "data": {
      "text/plain": [
       "[{'idMonitoring': 4,\n",
       "  'url': 'https://genpass.ecadem.co/',\n",
       "  'photoUrl': None,\n",
       "  'Recent': '2023-04-25T07:44:20.000Z',\n",
       "  'time': 0.24,\n",
       "  'statusCode': 200},\n",
       " {'idMonitoring': 2,\n",
       "  'url': 'https://genpass.ecademservices.com/',\n",
       "  'photoUrl': None,\n",
       "  'Recent': '2023-04-25T07:44:20.000Z',\n",
       "  'time': 0.26,\n",
       "  'statusCode': 200},\n",
       " {'idMonitoring': 1,\n",
       "  'url': 'https://ecademcontent.ecademservices.com/',\n",
       "  'photoUrl': None,\n",
       "  'Recent': '2023-04-25T07:44:20.000Z',\n",
       "  'time': 0.48,\n",
       "  'statusCode': 200},\n",
       " {'idMonitoring': 3,\n",
       "  'url': 'https://ecadem.co/',\n",
       "  'photoUrl': None,\n",
       "  'Recent': '2023-04-25T07:44:21.000Z',\n",
       "  'time': 0.85,\n",
       "  'statusCode': 200}]"
      ]
     },
     "execution_count": 17,
     "metadata": {},
     "output_type": "execute_result"
    }
   ],
   "source": [
    "resp"
   ]
  },
  {
   "cell_type": "code",
   "execution_count": 20,
   "id": "f94a3512",
   "metadata": {},
   "outputs": [
    {
     "data": {
      "text/plain": [
       "datetime.datetime(2023, 4, 25, 7, 44, 20)"
      ]
     },
     "execution_count": 20,
     "metadata": {},
     "output_type": "execute_result"
    }
   ],
   "source": [
    "# resp[0]['Recent'] = \n",
    "datetime.strptime(resp[0]['Recent'], '%Y-%m-%dT%H:%M:%S.%fZ')\n",
    "# resp[0]['Recent'].isoformat()"
   ]
  },
  {
   "cell_type": "code",
   "execution_count": 43,
   "id": "6e8be8d0",
   "metadata": {},
   "outputs": [],
   "source": [
    "for i in resp:\n",
    "    # Color\n",
    "    if i['statusCode'] == 200:\n",
    "        i['statusCode'] = \"#21f104\"\n",
    "    else:\n",
    "        i['statusCode'] = \"#c60000\"\n",
    "\n",
    "    # Date\n",
    "    i['Recent'] = datetime.strptime(str(i['Recent']), '%Y-%m-%dT%H:%M:%S.%fZ')\n",
    "\n",
    "    # url\n",
    "    try:\n",
    "        i['url'] = re.search('https?://([\\w.-]+\\.[\\w.-]+).*', i['url']).group(1)\n",
    "    except:\n",
    "        print(i['url'])\n",
    "        \n",
    "    # url photo\n",
    "    if i['photoUrl'] == None:\n",
    "        i['photoUrl'] = 'https://i.imgur.com/kJ00MaT.png'\n",
    "\n",
    "    \n",
    "    \n",
    "    \n"
   ]
  },
  {
   "cell_type": "code",
   "execution_count": 23,
   "id": "1655f794",
   "metadata": {},
   "outputs": [
    {
     "name": "stdout",
     "output_type": "stream",
     "text": [
      "ecadem.co\n"
     ]
    }
   ],
   "source": [
    "import re\n",
    "\n",
    "url = 'https://ecadem.co/'\n",
    "domain = re.search('https?://([\\w.-]+\\.[\\w.-]+).*', url).group(1)\n",
    "\n",
    "print(domain)"
   ]
  },
  {
   "cell_type": "code",
   "execution_count": 44,
   "id": "e109c3a8",
   "metadata": {},
   "outputs": [
    {
     "data": {
      "text/plain": [
       "[{'idMonitoring': 4,\n",
       "  'url': 'genpass.ecadem.co',\n",
       "  'photoUrl': 'https://i.imgur.com/kJ00MaT.png',\n",
       "  'Recent': datetime.datetime(2023, 4, 25, 7, 44, 20),\n",
       "  'time': 0.24,\n",
       "  'statusCode': '#21f104'},\n",
       " {'idMonitoring': 2,\n",
       "  'url': 'genpass.ecademservices.com',\n",
       "  'photoUrl': 'https://i.imgur.com/kJ00MaT.png',\n",
       "  'Recent': datetime.datetime(2023, 4, 25, 7, 44, 20),\n",
       "  'time': 0.26,\n",
       "  'statusCode': '#21f104'},\n",
       " {'idMonitoring': 1,\n",
       "  'url': 'ecademcontent.ecademservices.com',\n",
       "  'photoUrl': 'https://i.imgur.com/kJ00MaT.png',\n",
       "  'Recent': datetime.datetime(2023, 4, 25, 7, 44, 20),\n",
       "  'time': 0.48,\n",
       "  'statusCode': '#21f104'},\n",
       " {'idMonitoring': 3,\n",
       "  'url': 'ecadem.co',\n",
       "  'photoUrl': 'https://i.imgur.com/kJ00MaT.png',\n",
       "  'Recent': datetime.datetime(2023, 4, 25, 7, 44, 21),\n",
       "  'time': 0.85,\n",
       "  'statusCode': '#21f104'}]"
      ]
     },
     "execution_count": 44,
     "metadata": {},
     "output_type": "execute_result"
    }
   ],
   "source": [
    "resp"
   ]
  },
  {
   "cell_type": "code",
   "execution_count": null,
   "id": "36ef3227",
   "metadata": {},
   "outputs": [],
   "source": []
  },
  {
   "cell_type": "code",
   "execution_count": null,
   "id": "315e27f8",
   "metadata": {},
   "outputs": [],
   "source": []
  },
  {
   "cell_type": "code",
   "execution_count": null,
   "id": "f6ae5e84",
   "metadata": {},
   "outputs": [],
   "source": []
  }
 ],
 "metadata": {
  "kernelspec": {
   "display_name": "Python 3 (ipykernel)",
   "language": "python",
   "name": "python3"
  },
  "language_info": {
   "codemirror_mode": {
    "name": "ipython",
    "version": 3
   },
   "file_extension": ".py",
   "mimetype": "text/x-python",
   "name": "python",
   "nbconvert_exporter": "python",
   "pygments_lexer": "ipython3",
   "version": "3.10.9"
  }
 },
 "nbformat": 4,
 "nbformat_minor": 5
}
